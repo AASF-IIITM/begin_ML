{
 "cells": [
  {
   "cell_type": "code",
   "execution_count": 11,
   "metadata": {
    "_cell_guid": "79c7e3d0-c299-4dcb-8224-4455121ee9b0",
    "_uuid": "d629ff2d2480ee46fbb7e2d37f6b5fab8052498a"
   },
   "outputs": [],
   "source": [
    "#importing required libraries.....\n",
    "\n",
    "import os \n",
    "import numpy as np # linear algebra\n",
    "import pandas as pd # data processing, CSV file I/O (e.g. pd.read_csv)\n",
    "import re # regular expression\n",
    "import matplotlib.pyplot as plt\n",
    "import seaborn\n",
    "import nltk\n",
    "from nltk import PorterStemmer # natural language toolkit\n",
    "from nltk.corpus import stopwords\n",
    "from nltk.stem.wordnet import WordNetLemmatizer \n",
    "from nltk.tokenize import word_tokenize\n",
    "# Tweet tokenizer does not split at apostophes which is what we want\n",
    "from nltk.tokenize import TweetTokenizer   \n",
    "lem = WordNetLemmatizer()\n",
    "tokenizer=TweetTokenizer()\n",
    "from sklearn.feature_extraction.text import CountVectorizer, TfidfTransformer\n",
    "from sklearn.model_selection import train_test_split, GridSearchCV\n",
    "from sklearn.naive_bayes import MultinomialNB, BernoulliNB\n",
    "from sklearn.linear_model import LogisticRegression\n",
    "from sklearn.linear_model import RidgeClassifier\n",
    "from sklearn.multiclass import OneVsRestClassifier \n",
    "from sklearn.svm import LinearSVC\n",
    "from sklearn.metrics import roc_curve, auc\n",
    "from sklearn.metrics import accuracy_score\n",
    "import warnings\n",
    "warnings.filterwarnings(\"ignore\")"
   ]
  },
  {
   "cell_type": "code",
   "execution_count": 12,
   "metadata": {
    "_uuid": "c2010d2d8ccb2a67715b8a9a0fd6d93ba04160b5"
   },
   "outputs": [
    {
     "data": {
      "text/plain": [
       "['train.csv', 'sample_submission.csv', 'test.csv']"
      ]
     },
     "execution_count": 12,
     "metadata": {},
     "output_type": "execute_result"
    }
   ],
   "source": [
    "os.listdir(\"input\")"
   ]
  },
  {
   "cell_type": "code",
   "execution_count": null,
   "metadata": {
    "_uuid": "9e9b6bfe9fb8a575952e19a8c17b0d064598847f"
   },
   "outputs": [],
   "source": [
    "#read the data \n",
    "train=pd.read_csv('input/train.csv')\n",
    "test=pd.read_csv('input/test.csv')\n",
    "sample=pd.read_csv('input/sample_submission.csv')"
   ]
  },
  {
   "cell_type": "code",
   "execution_count": 19,
   "metadata": {
    "_uuid": "2f2759d607dacac36b5b0de0c41f94f15763eaac"
   },
   "outputs": [
    {
     "data": {
      "text/html": [
       "<div>\n",
       "<style scoped>\n",
       "    .dataframe tbody tr th:only-of-type {\n",
       "        vertical-align: middle;\n",
       "    }\n",
       "\n",
       "    .dataframe tbody tr th {\n",
       "        vertical-align: top;\n",
       "    }\n",
       "\n",
       "    .dataframe thead th {\n",
       "        text-align: right;\n",
       "    }\n",
       "</style>\n",
       "<table border=\"1\" class=\"dataframe\">\n",
       "  <thead>\n",
       "    <tr style=\"text-align: right;\">\n",
       "      <th></th>\n",
       "      <th>id</th>\n",
       "      <th>comment_text</th>\n",
       "      <th>toxic</th>\n",
       "      <th>severe_toxic</th>\n",
       "      <th>obscene</th>\n",
       "      <th>threat</th>\n",
       "      <th>insult</th>\n",
       "      <th>identity_hate</th>\n",
       "    </tr>\n",
       "  </thead>\n",
       "  <tbody>\n",
       "    <tr>\n",
       "      <th>0</th>\n",
       "      <td>0000997932d777bf</td>\n",
       "      <td>Explanation\\nWhy the edits made under my usern...</td>\n",
       "      <td>0</td>\n",
       "      <td>0</td>\n",
       "      <td>0</td>\n",
       "      <td>0</td>\n",
       "      <td>0</td>\n",
       "      <td>0</td>\n",
       "    </tr>\n",
       "    <tr>\n",
       "      <th>1</th>\n",
       "      <td>000103f0d9cfb60f</td>\n",
       "      <td>D'aww! He matches this background colour I'm s...</td>\n",
       "      <td>0</td>\n",
       "      <td>0</td>\n",
       "      <td>0</td>\n",
       "      <td>0</td>\n",
       "      <td>0</td>\n",
       "      <td>0</td>\n",
       "    </tr>\n",
       "    <tr>\n",
       "      <th>2</th>\n",
       "      <td>000113f07ec002fd</td>\n",
       "      <td>Hey man, I'm really not trying to edit war. It...</td>\n",
       "      <td>0</td>\n",
       "      <td>0</td>\n",
       "      <td>0</td>\n",
       "      <td>0</td>\n",
       "      <td>0</td>\n",
       "      <td>0</td>\n",
       "    </tr>\n",
       "    <tr>\n",
       "      <th>3</th>\n",
       "      <td>0001b41b1c6bb37e</td>\n",
       "      <td>\"\\nMore\\nI can't make any real suggestions on ...</td>\n",
       "      <td>0</td>\n",
       "      <td>0</td>\n",
       "      <td>0</td>\n",
       "      <td>0</td>\n",
       "      <td>0</td>\n",
       "      <td>0</td>\n",
       "    </tr>\n",
       "    <tr>\n",
       "      <th>4</th>\n",
       "      <td>0001d958c54c6e35</td>\n",
       "      <td>You, sir, are my hero. Any chance you remember...</td>\n",
       "      <td>0</td>\n",
       "      <td>0</td>\n",
       "      <td>0</td>\n",
       "      <td>0</td>\n",
       "      <td>0</td>\n",
       "      <td>0</td>\n",
       "    </tr>\n",
       "    <tr>\n",
       "      <th>5</th>\n",
       "      <td>00025465d4725e87</td>\n",
       "      <td>\"\\n\\nCongratulations from me as well, use the ...</td>\n",
       "      <td>0</td>\n",
       "      <td>0</td>\n",
       "      <td>0</td>\n",
       "      <td>0</td>\n",
       "      <td>0</td>\n",
       "      <td>0</td>\n",
       "    </tr>\n",
       "    <tr>\n",
       "      <th>6</th>\n",
       "      <td>0002bcb3da6cb337</td>\n",
       "      <td>COCKSUCKER BEFORE YOU PISS AROUND ON MY WORK</td>\n",
       "      <td>1</td>\n",
       "      <td>1</td>\n",
       "      <td>1</td>\n",
       "      <td>0</td>\n",
       "      <td>1</td>\n",
       "      <td>0</td>\n",
       "    </tr>\n",
       "    <tr>\n",
       "      <th>7</th>\n",
       "      <td>00031b1e95af7921</td>\n",
       "      <td>Your vandalism to the Matt Shirvington article...</td>\n",
       "      <td>0</td>\n",
       "      <td>0</td>\n",
       "      <td>0</td>\n",
       "      <td>0</td>\n",
       "      <td>0</td>\n",
       "      <td>0</td>\n",
       "    </tr>\n",
       "    <tr>\n",
       "      <th>8</th>\n",
       "      <td>00037261f536c51d</td>\n",
       "      <td>Sorry if the word 'nonsense' was offensive to ...</td>\n",
       "      <td>0</td>\n",
       "      <td>0</td>\n",
       "      <td>0</td>\n",
       "      <td>0</td>\n",
       "      <td>0</td>\n",
       "      <td>0</td>\n",
       "    </tr>\n",
       "    <tr>\n",
       "      <th>9</th>\n",
       "      <td>00040093b2687caa</td>\n",
       "      <td>alignment on this subject and which are contra...</td>\n",
       "      <td>0</td>\n",
       "      <td>0</td>\n",
       "      <td>0</td>\n",
       "      <td>0</td>\n",
       "      <td>0</td>\n",
       "      <td>0</td>\n",
       "    </tr>\n",
       "  </tbody>\n",
       "</table>\n",
       "</div>"
      ],
      "text/plain": [
       "                 id      ...      identity_hate\n",
       "0  0000997932d777bf      ...                  0\n",
       "1  000103f0d9cfb60f      ...                  0\n",
       "2  000113f07ec002fd      ...                  0\n",
       "3  0001b41b1c6bb37e      ...                  0\n",
       "4  0001d958c54c6e35      ...                  0\n",
       "5  00025465d4725e87      ...                  0\n",
       "6  0002bcb3da6cb337      ...                  0\n",
       "7  00031b1e95af7921      ...                  0\n",
       "8  00037261f536c51d      ...                  0\n",
       "9  00040093b2687caa      ...                  0\n",
       "\n",
       "[10 rows x 8 columns]"
      ]
     },
     "execution_count": 19,
     "metadata": {},
     "output_type": "execute_result"
    }
   ],
   "source": [
    "#printing some upper rows of our training data\n",
    "train.head(10)"
   ]
  },
  {
   "cell_type": "code",
   "execution_count": 18,
   "metadata": {
    "_uuid": "6e6072ace4cf591cd5f25fb4bd54f85366f18d1d"
   },
   "outputs": [
    {
     "name": "stdout",
     "output_type": "stream",
     "text": [
      "No. of training examples :  159571\n",
      "No. of test data :  153164\n",
      "Index(['toxic', 'severe_toxic', 'obscene', 'threat', 'insult',\n",
      "       'identity_hate'],\n",
      "      dtype='object')\n",
      "No. of examples with no labels :  143346\n"
     ]
    }
   ],
   "source": [
    "#some information about data\n",
    "print('No. of training examples : ',len(train))\n",
    "print(\"No. of test data : \",len(test))\n",
    "print(train.columns[2:]) #columns_name\n",
    "row=train.iloc[:,2:].sum(axis=1)\n",
    "print(\"No. of examples with no labels : \",(row==0).sum())"
   ]
  },
  {
   "cell_type": "code",
   "execution_count": 17,
   "metadata": {
    "_uuid": "ca1be5aa5bf35c26c6a602b87f60f75e11c4d2ab"
   },
   "outputs": [
    {
     "name": "stdout",
     "output_type": "stream",
     "text": [
      "Check for missing values in Train dataset\n",
      "id               0\n",
      "comment_text     0\n",
      "toxic            0\n",
      "severe_toxic     0\n",
      "obscene          0\n",
      "threat           0\n",
      "insult           0\n",
      "identity_hate    0\n",
      "dtype: int64\n",
      "Check for missing values in Test dataset\n",
      "id              0\n",
      "comment_text    0\n",
      "dtype: int64\n",
      "filling NA with \"unknown\"\n"
     ]
    }
   ],
   "source": [
    "#fill blank values with unknown otherwise model gives problem\n",
    "print(\"Check for missing values in Train dataset\")\n",
    "null_check=train.isnull().sum()\n",
    "print(null_check)\n",
    "print(\"Check for missing values in Test dataset\")\n",
    "null_check=test.isnull().sum()\n",
    "print(null_check)\n",
    "print(\"filling NA with \\\"unknown\\\"\")\n",
    "train[\"comment_text\"].fillna(\"unknown\", inplace=True)\n",
    "test[\"comment_text\"].fillna(\"unknown\", inplace=True)"
   ]
  },
  {
   "cell_type": "code",
   "execution_count": 13,
   "metadata": {
    "_uuid": "cc8cc99c2ee2bcd662248663faac48a633a68676",
    "scrolled": true
   },
   "outputs": [
    {
     "data": {
      "image/png": "[encoded data removed]",
      "text/plain": [
       "<Figure size 576x288 with 1 Axes>"
      ]
     },
     "metadata": {},
     "output_type": "display_data"
    }
   ],
   "source": [
    "#plot\n",
    "x=train.iloc[:,2:].sum()\n",
    "plt.figure(figsize=(8,4))\n",
    "ax= seaborn.barplot(x.index, x.values, alpha=0.8)\n",
    "plt.title(\"# per class\")\n",
    "plt.ylabel('# of Occurrences', fontsize=12)\n",
    "plt.xlabel('Type ', fontsize=12)\n",
    "#adding the text labels\n",
    "rects = ax.patches\n",
    "labels = x.values\n",
    "for rect, label in zip(rects, labels):\n",
    "    height = rect.get_height()\n",
    "    ax.text(rect.get_x() + rect.get_width()/2, height + 5, label, ha='center', va='bottom')\n",
    "\n",
    "plt.show()"
   ]
  },
  {
   "cell_type": "code",
   "execution_count": 14,
   "metadata": {
    "_uuid": "dd3f4988cb257c6314df024a2a3024f9b84d5baf"
   },
   "outputs": [],
   "source": [
    "# creating train-validation split\n",
    "x_train, x_val, y_train, y_val = train_test_split(train.comment_text, train.iloc[:,2:8], test_size=0.3, random_state=19)\n",
    "x_test = test.comment_text"
   ]
  },
  {
   "cell_type": "code",
   "execution_count": 16,
   "metadata": {
    "_uuid": "5561dffcda357ddc8300a29c88e03a7872129308"
   },
   "outputs": [],
   "source": [
    "def clean(comment):\n",
    "    \"\"\"\n",
    "    This function receives comments and returns clean word-list\n",
    "    \"\"\"\n",
    "    #Convert to lower case , so that Hi and hi are the same\n",
    "    comment=comment.lower()\n",
    "    #remove \\n\n",
    "    comment=re.sub(\"\\\\n\",\"\",comment)\n",
    "    # remove leaky elements like ip,user\n",
    "    comment=re.sub(\"\\d{1,3}\\.\\d{1,3}\\.\\d{1,3}\\.\\d{1,3}\",\"\",comment)\n",
    "    #removing usernames\n",
    "    comment=re.sub(\"\\[\\[.*\\]\",\"\",comment)\n",
    "    \n",
    "    #Split the sentences into words\n",
    "    words=tokenizer.tokenize(comment)\n",
    "    \n",
    "    words = [w for w in words if not w in stopwords.words('english')]\n",
    "    words=[lem.lemmatize(word, \"v\") for word in words]\n",
    "    \n",
    "    clean_sent=\" \".join(words)\n",
    "    return(clean_sent)"
   ]
  },
  {
   "cell_type": "code",
   "execution_count": null,
   "metadata": {
    "_uuid": "b4adf293ff9a256e65631d8778cdd504ce1861e8"
   },
   "outputs": [],
   "source": [
    "# preparing training text to pass in count vectorizer\n",
    "corpus=[]\n",
    "for text in x_train:\n",
    "    text = clean(text)\n",
    "    corpus.append(text)"
   ]
  },
  {
   "cell_type": "code",
   "execution_count": 15,
   "metadata": {
    "_uuid": "944db1ae7e863069338486a96bfb2c2552dc56cd"
   },
   "outputs": [],
   "source": [
    "# build Count Vectorizer, to convert a collection of text documents to a matrix of token counts\n",
    "count_vect = CountVectorizer(ngram_range=(1,2))\n",
    "X_train_counts = count_vect.fit_transform(corpus)\n",
    "\n",
    "# build TFIDF Transformer, to transform a count matrix to a normalized tf or tf-idf representation\n",
    "# tfidf - term frequency inverse document frequency\n",
    "tfidf_transformer = TfidfTransformer()\n",
    "X_train_tfidf = tfidf_transformer.fit_transform(X_train_counts)"
   ]
  },
  {
   "cell_type": "code",
   "execution_count": 20,
   "metadata": {
    "_uuid": "5dff76cfacd192362086c8c043df4c185ee4c34e"
   },
   "outputs": [],
   "source": [
    "# preparing validation text to pass in count vectorizer\n",
    "X_val_set = []\n",
    "for text in x_val:\n",
    "    text = clean(text)\n",
    "    X_val_set.append(text)"
   ]
  },
  {
   "cell_type": "code",
   "execution_count": 22,
   "metadata": {
    "_uuid": "f51881d5733e6fd50a61d7c9f9258408222346ff"
   },
   "outputs": [],
   "source": [
    "# tranforming validation data using count vectorizer followed by tfidf transformer\n",
    "X_val_counts = count_vect.transform(X_val_set)\n",
    "X_val_tfidf = tfidf_transformer.transform(X_val_counts)"
   ]
  },
  {
   "cell_type": "code",
   "execution_count": 23,
   "metadata": {
    "_uuid": "00feb9cdc2a5e9c67a4cc894f041e76a97f8a47c"
   },
   "outputs": [],
   "source": [
    "# preparing test text to pass in count vectorizer\n",
    "X_test_set = []\n",
    "for text in x_test:\n",
    "    text=clean(text)\n",
    "    X_test_set.append(text)"
   ]
  },
  {
   "cell_type": "code",
   "execution_count": 24,
   "metadata": {
    "_uuid": "b91897ed88926e6feeac735e5329c9f916812244"
   },
   "outputs": [],
   "source": [
    "# tranforming validation data using count vectorizer followed by tfidf transformer\n",
    "X_test_counts = count_vect.transform(X_test_set)\n",
    "X_test_tfidf = tfidf_transformer.transform(X_test_counts)"
   ]
  },
  {
   "cell_type": "code",
   "execution_count": 37,
   "metadata": {
    "_uuid": "302acc808a042e7fb8bd6524b53564593c2c5279"
   },
   "outputs": [],
   "source": [
    "# creating dictionary to store prediction results\n",
    "result_test = dict()\n",
    "result_val =  dict()\n",
    "result_train =  dict()"
   ]
  },
  {
   "cell_type": "code",
   "execution_count": 38,
   "metadata": {
    "_uuid": "9da7add340b0f5219c095b731f6b02c1de62b2d3"
   },
   "outputs": [
    {
     "name": "stdout",
     "output_type": "stream",
     "text": [
      "Accurary of Multinomial Naive Bayes Classifier on Training Data: 0.8980026678842246\n"
     ]
    }
   ],
   "source": [
    "#Applying Model\n",
    "# Multinomial Naive Bayes Model\n",
    "MNB_classifier = OneVsRestClassifier(MultinomialNB())\n",
    "MNB_classifier.fit(X_train_tfidf, y_train)\n",
    "y_pred_train=MNB_classifier.predict(X_train_tfidf)\n",
    "result_train['Multinomial_NB'] = y_pred_train\n",
    "print (\"Accurary of Multinomial Naive Bayes Classifier on Training Data:\",accuracy_score(y_pred_train,y_train))"
   ]
  },
  {
   "cell_type": "code",
   "execution_count": 39,
   "metadata": {
    "_uuid": "c50f9ae93273711cf55babfae3cec7100ba0de4a"
   },
   "outputs": [
    {
     "name": "stdout",
     "output_type": "stream",
     "text": [
      "Accurary of Bernoulli Naive Bayes Classifier on Training Data: 0.8892022309958012\n"
     ]
    }
   ],
   "source": [
    "# Bernoulli Naive Bayes Model\n",
    "BNB_model = OneVsRestClassifier(BernoulliNB())\n",
    "BNB_model.fit(X_train_tfidf, y_train)\n",
    "y_pred_train=BNB_model.predict(X_train_tfidf)\n",
    "result_train['Bernoulli_NB'] = y_pred_train\n",
    "print('Accurary of Bernoulli Naive Bayes Classifier on Training Data:',accuracy_score(y_pred_train,y_train))"
   ]
  },
  {
   "cell_type": "code",
   "execution_count": 40,
   "metadata": {
    "_uuid": "f193b1fa96ad3f24c34975c52599af222085dc7f"
   },
   "outputs": [
    {
     "name": "stdout",
     "output_type": "stream",
     "text": [
      "Accurary of Ridge Classifier on Training Data: 0.9357469628197208\n"
     ]
    }
   ],
   "source": [
    "#Ridge Classifier Model\n",
    "ridge_model = OneVsRestClassifier(RidgeClassifier(normalize=True))\n",
    "ridge_model.fit(X_train_tfidf, y_train)\n",
    "y_pred_train=ridge_model.predict(X_train_tfidf)\n",
    "result_train['Ridge_Classifier'] = y_pred_train\n",
    "print('Accurary of Ridge Classifier on Training Data:',accuracy_score(y_pred_train,y_train))                          "
   ]
  },
  {
   "cell_type": "code",
   "execution_count": 41,
   "metadata": {
    "_uuid": "c13c29fd4b04bca4ca1dc2df3229ff4a52416d5b"
   },
   "outputs": [
    {
     "name": "stdout",
     "output_type": "stream",
     "text": [
      "Accurary of Logistic Regression on Training Data: 0.9205812048451643\n"
     ]
    }
   ],
   "source": [
    "# Logistic Regression Model\n",
    "log_model = OneVsRestClassifier(LogisticRegression(multi_class='ovr'))\n",
    "log_model.fit(X_train_tfidf, y_train)\n",
    "y_pred_train=log_model.predict(X_train_tfidf)\n",
    "result_train['Logistic_Regression'] = y_pred_train\n",
    "print('Accurary of Logistic Regression on Training Data:',accuracy_score(y_pred_train,y_train))"
   ]
  },
  {
   "cell_type": "code",
   "execution_count": 42,
   "metadata": {
    "_uuid": "92e4d5fbe63c64f3ab668235f61611001a2d2111",
    "scrolled": true
   },
   "outputs": [
    {
     "name": "stdout",
     "output_type": "stream",
     "text": [
      "Accurary of SVM Classifier on Training Data: 0.9967949578778682\n"
     ]
    }
   ],
   "source": [
    "# SVM Classifier Model\n",
    "svm_model = OneVsRestClassifier(LinearSVC(multi_class='ovr'))\n",
    "svm_model.fit(X_train_tfidf, y_train)\n",
    "y_pred_train=svm_model.predict(X_train_tfidf)\n",
    "result_train['SVM'] = y_pred_train\n",
    "print('Accurary of SVM Classifier on Training Data:',accuracy_score(y_pred_train,y_train))"
   ]
  },
  {
   "cell_type": "code",
   "execution_count": 44,
   "metadata": {
    "_uuid": "1e879fa932bde1d33b907bcf34e6951f30e487f9"
   },
   "outputs": [
    {
     "name": "stdout",
     "output_type": "stream",
     "text": [
      "Accurary of SVM Classifier on Training Data: 0.999\n",
      "Accurary of SVM Classifier on Validation Data: 0.977\n",
      "Grid best parameter (max. accuracy):  {'estimator__C': 0.3}\n",
      "Grid best score (accuracy):  0.9768417891265212\n"
     ]
    }
   ],
   "source": [
    "#Picking the model with highest accuracy rate on train data and now do hyperparameter tuning on cross-validation set\n",
    "#Hyperparameter Tuning\n",
    "grid_values = {'estimator__C': [0.3, 1.0, 30.0]}\n",
    "svm_grid = GridSearchCV(svm_model, param_grid = grid_values, scoring = 'roc_auc')\n",
    "svm_grid.fit(X_train_tfidf, y_train)\n",
    "print('Accurary of SVM Classifier on Training Data: {:.3f}' .format(svm_grid.score(X_train_tfidf, y_train)))\n",
    "print('Accurary of SVM Classifier on Validation Data: {:.3f}' .format(svm_grid.score(X_val_tfidf, y_val)))\n",
    "print('Grid best parameter (max. accuracy): ', svm_grid.best_params_)\n",
    "print('Grid best score (accuracy): ', svm_grid.best_score_)"
   ]
  },
  {
   "cell_type": "code",
   "execution_count": 49,
   "metadata": {
    "_uuid": "808c9b0181e1bc6b6cf0391d4504f002c82568d2"
   },
   "outputs": [],
   "source": [
    "svm_model = OneVsRestClassifier(LinearSVC(multi_class='ovr',C=0.3))\n",
    "svm_model.fit(X_train_tfidf, y_train)\n",
    "#predict for the test data\n",
    "result_test['SVM']=svm_model.predict(X_test_tfidf)\n",
    "# storing results of SVM Classifier as our result\n",
    "y_test = result_test['SVM']"
   ]
  },
  {
   "cell_type": "code",
   "execution_count": 50,
   "metadata": {
    "_uuid": "da116bf9fa5a8072c4e8b27c8ac34bb35b6912c2"
   },
   "outputs": [],
   "source": [
    "# combining final results with the original test data set\n",
    "output = pd.DataFrame(y_test, columns = train.columns[2:8], index = test.index)\n",
    "output = pd.concat([test, output], axis=1)"
   ]
  },
  {
   "cell_type": "code",
   "execution_count": 51,
   "metadata": {
    "_uuid": "573d8fe90dcee0681832433a229315c51f55e791"
   },
   "outputs": [
    {
     "data": {
      "text/html": [
       "<div>\n",
       "<style scoped>\n",
       "    .dataframe tbody tr th:only-of-type {\n",
       "        vertical-align: middle;\n",
       "    }\n",
       "\n",
       "    .dataframe tbody tr th {\n",
       "        vertical-align: top;\n",
       "    }\n",
       "\n",
       "    .dataframe thead th {\n",
       "        text-align: right;\n",
       "    }\n",
       "</style>\n",
       "<table border=\"1\" class=\"dataframe\">\n",
       "  <thead>\n",
       "    <tr style=\"text-align: right;\">\n",
       "      <th></th>\n",
       "      <th>id</th>\n",
       "      <th>toxic</th>\n",
       "      <th>severe_toxic</th>\n",
       "      <th>obscene</th>\n",
       "      <th>threat</th>\n",
       "      <th>insult</th>\n",
       "      <th>identity_hate</th>\n",
       "    </tr>\n",
       "  </thead>\n",
       "  <tbody>\n",
       "    <tr>\n",
       "      <th>0</th>\n",
       "      <td>00001cee341fdb12</td>\n",
       "      <td>0.5</td>\n",
       "      <td>0.5</td>\n",
       "      <td>0.5</td>\n",
       "      <td>0.5</td>\n",
       "      <td>0.5</td>\n",
       "      <td>0.5</td>\n",
       "    </tr>\n",
       "    <tr>\n",
       "      <th>1</th>\n",
       "      <td>0000247867823ef7</td>\n",
       "      <td>0.5</td>\n",
       "      <td>0.5</td>\n",
       "      <td>0.5</td>\n",
       "      <td>0.5</td>\n",
       "      <td>0.5</td>\n",
       "      <td>0.5</td>\n",
       "    </tr>\n",
       "    <tr>\n",
       "      <th>2</th>\n",
       "      <td>00013b17ad220c46</td>\n",
       "      <td>0.5</td>\n",
       "      <td>0.5</td>\n",
       "      <td>0.5</td>\n",
       "      <td>0.5</td>\n",
       "      <td>0.5</td>\n",
       "      <td>0.5</td>\n",
       "    </tr>\n",
       "    <tr>\n",
       "      <th>3</th>\n",
       "      <td>00017563c3f7919a</td>\n",
       "      <td>0.5</td>\n",
       "      <td>0.5</td>\n",
       "      <td>0.5</td>\n",
       "      <td>0.5</td>\n",
       "      <td>0.5</td>\n",
       "      <td>0.5</td>\n",
       "    </tr>\n",
       "    <tr>\n",
       "      <th>4</th>\n",
       "      <td>00017695ad8997eb</td>\n",
       "      <td>0.5</td>\n",
       "      <td>0.5</td>\n",
       "      <td>0.5</td>\n",
       "      <td>0.5</td>\n",
       "      <td>0.5</td>\n",
       "      <td>0.5</td>\n",
       "    </tr>\n",
       "  </tbody>\n",
       "</table>\n",
       "</div>"
      ],
      "text/plain": [
       "                 id  toxic      ...        insult  identity_hate\n",
       "0  00001cee341fdb12    0.5      ...           0.5            0.5\n",
       "1  0000247867823ef7    0.5      ...           0.5            0.5\n",
       "2  00013b17ad220c46    0.5      ...           0.5            0.5\n",
       "3  00017563c3f7919a    0.5      ...           0.5            0.5\n",
       "4  00017695ad8997eb    0.5      ...           0.5            0.5\n",
       "\n",
       "[5 rows x 7 columns]"
      ]
     },
     "execution_count": 51,
     "metadata": {},
     "output_type": "execute_result"
    }
   ],
   "source": [
    "#Sample Submission\n",
    "sample.head()"
   ]
  },
  {
   "cell_type": "code",
   "execution_count": 52,
   "metadata": {
    "_uuid": "643eb96cc7080a042368ce6631ec43b7cc78a446"
   },
   "outputs": [
    {
     "data": {
      "text/html": [
       "<div>\n",
       "<style scoped>\n",
       "    .dataframe tbody tr th:only-of-type {\n",
       "        vertical-align: middle;\n",
       "    }\n",
       "\n",
       "    .dataframe tbody tr th {\n",
       "        vertical-align: top;\n",
       "    }\n",
       "\n",
       "    .dataframe thead th {\n",
       "        text-align: right;\n",
       "    }\n",
       "</style>\n",
       "<table border=\"1\" class=\"dataframe\">\n",
       "  <thead>\n",
       "    <tr style=\"text-align: right;\">\n",
       "      <th></th>\n",
       "      <th>id</th>\n",
       "      <th>comment_text</th>\n",
       "      <th>toxic</th>\n",
       "      <th>severe_toxic</th>\n",
       "      <th>obscene</th>\n",
       "      <th>threat</th>\n",
       "      <th>insult</th>\n",
       "      <th>identity_hate</th>\n",
       "    </tr>\n",
       "  </thead>\n",
       "  <tbody>\n",
       "    <tr>\n",
       "      <th>0</th>\n",
       "      <td>00001cee341fdb12</td>\n",
       "      <td>Yo bitch Ja Rule is more succesful then you'll...</td>\n",
       "      <td>1</td>\n",
       "      <td>0</td>\n",
       "      <td>1</td>\n",
       "      <td>0</td>\n",
       "      <td>1</td>\n",
       "      <td>0</td>\n",
       "    </tr>\n",
       "    <tr>\n",
       "      <th>1</th>\n",
       "      <td>0000247867823ef7</td>\n",
       "      <td>== From RfC == \\n\\n The title is fine as it is...</td>\n",
       "      <td>0</td>\n",
       "      <td>0</td>\n",
       "      <td>0</td>\n",
       "      <td>0</td>\n",
       "      <td>0</td>\n",
       "      <td>0</td>\n",
       "    </tr>\n",
       "    <tr>\n",
       "      <th>2</th>\n",
       "      <td>00013b17ad220c46</td>\n",
       "      <td>\" \\n\\n == Sources == \\n\\n * Zawe Ashton on Lap...</td>\n",
       "      <td>0</td>\n",
       "      <td>0</td>\n",
       "      <td>0</td>\n",
       "      <td>0</td>\n",
       "      <td>0</td>\n",
       "      <td>0</td>\n",
       "    </tr>\n",
       "    <tr>\n",
       "      <th>3</th>\n",
       "      <td>00017563c3f7919a</td>\n",
       "      <td>:If you have a look back at the source, the in...</td>\n",
       "      <td>0</td>\n",
       "      <td>0</td>\n",
       "      <td>0</td>\n",
       "      <td>0</td>\n",
       "      <td>0</td>\n",
       "      <td>0</td>\n",
       "    </tr>\n",
       "    <tr>\n",
       "      <th>4</th>\n",
       "      <td>00017695ad8997eb</td>\n",
       "      <td>I don't anonymously edit articles at all.</td>\n",
       "      <td>0</td>\n",
       "      <td>0</td>\n",
       "      <td>0</td>\n",
       "      <td>0</td>\n",
       "      <td>0</td>\n",
       "      <td>0</td>\n",
       "    </tr>\n",
       "  </tbody>\n",
       "</table>\n",
       "</div>"
      ],
      "text/plain": [
       "                 id      ...      identity_hate\n",
       "0  00001cee341fdb12      ...                  0\n",
       "1  0000247867823ef7      ...                  0\n",
       "2  00013b17ad220c46      ...                  0\n",
       "3  00017563c3f7919a      ...                  0\n",
       "4  00017695ad8997eb      ...                  0\n",
       "\n",
       "[5 rows x 8 columns]"
      ]
     },
     "execution_count": 52,
     "metadata": {},
     "output_type": "execute_result"
    }
   ],
   "source": [
    "# verifing data\n",
    "output.head()"
   ]
  },
  {
   "cell_type": "code",
   "execution_count": 53,
   "metadata": {
    "_uuid": "e972dbc6ca5f008c249559e4056160a8aee90ef0"
   },
   "outputs": [
    {
     "data": {
      "text/plain": [
       "id                                                09f4b7014a35f365\n",
       "comment_text     ==Gay Cowboys== \\n\\n My thoughts about this: G...\n",
       "toxic                                                            1\n",
       "severe_toxic                                                     0\n",
       "obscene                                                          0\n",
       "threat                                                           0\n",
       "insult                                                           0\n",
       "identity_hate                                                    1\n",
       "Name: 5902, dtype: object"
      ]
     },
     "execution_count": 53,
     "metadata": {},
     "output_type": "execute_result"
    }
   ],
   "source": [
    "# verifing select random case, as per index from above code chunk\n",
    "output.comment_text[5902]\n",
    "output.iloc[5902,:]"
   ]
  },
  {
   "cell_type": "code",
   "execution_count": 54,
   "metadata": {
    "_kg_hide-output": true,
    "_uuid": "29acaac446163814c367f4a04a03047bc8a8b54b"
   },
   "outputs": [
    {
     "data": {
      "text/plain": [
       "toxic            27902\n",
       "severe_toxic      1263\n",
       "obscene          16751\n",
       "threat             144\n",
       "insult           13318\n",
       "identity_hate     1160\n",
       "dtype: int64"
      ]
     },
     "execution_count": 54,
     "metadata": {},
     "output_type": "execute_result"
    }
   ],
   "source": [
    "# quick summary for training, validation and test set respectively\n",
    "y_train.sum(axis=0)\n",
    "y_val.sum(axis=0)\n",
    "output.iloc[:,2:8].sum(axis=0)"
   ]
  },
  {
   "cell_type": "code",
   "execution_count": 55,
   "metadata": {
    "_uuid": "eb9e81ab67ea3bef39514eb9dd2b3d0e62038957"
   },
   "outputs": [],
   "source": [
    "#Final Submission\n",
    "my_submission = output.drop(['comment_text'], axis = 1, inplace = False)\n",
    "my_submission.to_csv('submission.csv', index=False)"
   ]
  }
 ],
 "metadata": {
  "kernelspec": {
   "display_name": "Python 3",
   "language": "python",
   "name": "python3"
  },
  "language_info": {
   "codemirror_mode": {
    "name": "ipython",
    "version": 3
   },
   "file_extension": ".py",
   "mimetype": "text/x-python",
   "name": "python",
   "nbconvert_exporter": "python",
   "pygments_lexer": "ipython3",
   "version": "3.6.0"
  }
 },
 "nbformat": 4,
 "nbformat_minor": 1
}
